{
 "cells": [
  {
   "cell_type": "markdown",
   "metadata": {},
   "source": [
    "# Derive Insights from images with Anthropic Claude 3 and Amazon Bedrock using Boto3 SDK"
   ]
  },
  {
   "cell_type": "markdown",
   "metadata": {},
   "source": [
    "## Introduction\n",
    "\n",
    "In this notebook we will show you how to use Boto3, SDK Anthropic Claude 3 and Amazon Bedrock to analyze images and derive insights from it.\n",
    "\n",
    "\n",
    "## Use case 1 : Image Summarization\n",
    "\n",
    "This use case demonstrates Anthropic Claude 3's ability to summarize complex data from charts/ graphs\n",
    "\n",
    "\n",
    "#### Persona\n",
    "You are Bob, an Analyst at AnyCompany and you need to explain to your leaders last 5 years trend in cost reduction across various supplier categories as depicted in a chart. You need the help of a Foundation Model to summarize all insights from this chart.\n",
    "\n",
    "#### Implementation\n",
    "To fulfill this use case, in this notebook we will show how Anthropic Claude 3 can quickly analyze and summarize intricate visualizations, making it invaluable for data analysis and decision-making. We will use the Anthropic Claude 3 Sonnet Foundation model, Amazon Bedrock API and Boto3 SDK. "
   ]
  },
  {
   "cell_type": "markdown",
   "metadata": {},
   "source": [
    "#### Python 3.10\n",
    "\n",
    "⚠  For this lab we need to run the notebook based on a Python 3.10 runtime. ⚠\n",
    "\n",
    "\n",
    "## Installation\n",
    "\n",
    "To run this notebook you would need to install dependencies - boto3 and botocore."
   ]
  },
  {
   "cell_type": "code",
   "execution_count": null,
   "metadata": {
    "vscode": {
     "languageId": "plaintext"
    }
   },
   "outputs": [],
   "source": [
    "%pip install --upgrade pip\n",
    "%pip install boto3 --force-reinstall --quiet\n",
    "%pip install botocore --force-reinstall --quiet"
   ]
  },
  {
   "cell_type": "markdown",
   "metadata": {},
   "source": [
    "## Kernel Restart\n",
    "\n",
    "Restart the kernel with the updated packages that are installed through the dependencies above"
   ]
  },
  {
   "cell_type": "code",
   "execution_count": null,
   "metadata": {
    "vscode": {
     "languageId": "plaintext"
    }
   },
   "outputs": [],
   "source": [
    "# restart kernel\n",
    "from IPython.core.display import HTML\n",
    "HTML(\"<script>Jupyter.notebook.kernel.restart()</script>\")"
   ]
  },
  {
   "cell_type": "markdown",
   "metadata": {},
   "source": [
    "## Setup \n",
    "\n",
    "Import the necessary libraries"
   ]
  },
  {
   "cell_type": "code",
   "execution_count": null,
   "metadata": {
    "vscode": {
     "languageId": "plaintext"
    }
   },
   "outputs": [],
   "source": [
    "import json\n",
    "import os\n",
    "import sys\n",
    "import base64\n",
    "import boto3\n",
    "import botocore"
   ]
  },
  {
   "cell_type": "markdown",
   "metadata": {},
   "source": [
    "## Initialization\n",
    "\n",
    "Initiate Bedrock Runtime Client"
   ]
  },
  {
   "cell_type": "code",
   "execution_count": null,
   "metadata": {
    "vscode": {
     "languageId": "plaintext"
    }
   },
   "outputs": [],
   "source": [
    "bedrock_runtime = boto3.client('bedrock-runtime')"
   ]
  },
  {
   "cell_type": "markdown",
   "metadata": {},
   "source": [
    "## Input Image\n",
    "\n",
    "Below is the image of an input chart\n",
    "\n",
    "![chart.png](./media/chart.png)"
   ]
  },
  {
   "cell_type": "markdown",
   "metadata": {},
   "source": [
    "## Payload Creation\n",
    "\n",
    "Create payload to request Anthropic Claude 3 to summarize insights from a chart"
   ]
  },
  {
   "cell_type": "code",
   "execution_count": null,
   "metadata": {
    "vscode": {
     "languageId": "plaintext"
    }
   },
   "outputs": [],
   "source": [
    "# Read input image\n",
    "with open(\"./media/chart.png\", \"rb\") as image_file:\n",
    "    encoded_string = base64.b64encode(image_file.read())\n",
    "    base64_string = encoded_string.decode('utf-8')\n",
    "\n",
    "model_id = \"anthropic.claude-3-sonnet-20240229-v1:0\" #change it as per the model\n",
    "anthropic_version = \"bedrock-2023-05-31\" #change it as per the model version\n",
    "\n",
    "payload = {\n",
    "    \"modelId\": model_id,\n",
    "    \"contentType\": \"application/json\",\n",
    "    \"accept\": \"application/json\",\n",
    "    \"body\": {\n",
    "        \"anthropic_version\": anthropic_version,\n",
    "        \"max_tokens\": 1000,\n",
    "        \"messages\": [\n",
    "            {\n",
    "                \"role\": \"user\",\n",
    "                \"content\": [\n",
    "                    {\n",
    "                        \"type\": \"image\",\n",
    "                        \"source\": {\n",
    "                            \"type\": \"base64\",\n",
    "                            \"media_type\": \"image/png\",\n",
    "                            \"data\": base64_string\n",
    "                        }\n",
    "                    },\n",
    "                    {\n",
    "                        \"type\": \"text\",\n",
    "                        \"text\": \"Write me a summary of this chart\"\n",
    "                    }\n",
    "                ]\n",
    "            }\n",
    "        ]\n",
    "    }\n",
    "}"
   ]
  },
  {
   "cell_type": "markdown",
   "metadata": {},
   "source": [
    "## Model invocation\n",
    "\n",
    "Invoke the Anthropic Claude 3 model using bedrock runtime client\n",
    "\n",
    "Amazon Bedrock runtime client provides you with an API `invoke_model` which accepts the following:\n",
    "- `modelId`: This is the model ARN for the foundation model available in Amazon Bedrock\n",
    "- `accept`: The type of input request\n",
    "- `contentType`: The content type of the output\n",
    "- `body`: A json string payload consisting of the prompt and the configurations"
   ]
  },
  {
   "cell_type": "code",
   "execution_count": null,
   "metadata": {
    "vscode": {
     "languageId": "plaintext"
    }
   },
   "outputs": [],
   "source": [
    "# Convert the payload to bytes\n",
    "body_bytes = json.dumps(payload['body']).encode('utf-8')\n",
    "\n",
    "# Invoke the model\n",
    "response = bedrock_runtime.invoke_model(\n",
    "    body=body_bytes,\n",
    "    contentType=payload['contentType'],\n",
    "    accept=payload['accept'],\n",
    "    modelId=payload['modelId']\n",
    ")"
   ]
  },
  {
   "cell_type": "markdown",
   "metadata": {},
   "source": [
    "## Response Generation\n",
    "\n",
    "Process and visualize the response"
   ]
  },
  {
   "cell_type": "code",
   "execution_count": null,
   "metadata": {
    "vscode": {
     "languageId": "plaintext"
    }
   },
   "outputs": [],
   "source": [
    "# Process the response\n",
    "result = json.loads(response.get(\"body\").read())\n",
    "output_list = result.get(\"content\", [])\n",
    "for output in output_list:\n",
    "    print(output[\"text\"])"
   ]
  },
  {
   "cell_type": "markdown",
   "metadata": {},
   "source": [
    "## Use case 2 : Image Recognition\n",
    "\n",
    "This use case demonstrates Anthropic Claude 3's ability to identify all entities present in an image\n",
    "\n",
    "\n",
    "#### Persona\n",
    "You are Bob, a Chef at AnyCompany and you need to quickly identify and catalog various ingredients in recipes, ensuring consistency and quality in your culinary creations and food reviews.\n",
    "\n",
    "#### Implementation\n",
    "To fulfill this use case, in this notebook we will show how Anthropic Claude 3 can quickly identify all ingredients with great detail, useful for applications like food logging, recipe analysis, and inventory management in the food and hospitality sectors. We will use the Anthropic Claude 3 Sonnet Foundation model, Amazon Bedrock API and Boto3 SDK. "
   ]
  },
  {
   "cell_type": "markdown",
   "metadata": {},
   "source": [
    "## Input Image\n",
    "\n",
    "Below is the image of a food item\n",
    "\n",
    "![chart.png](./media/greek-salad.jpg)"
   ]
  },
  {
   "cell_type": "markdown",
   "metadata": {},
   "source": [
    "## Payload Creation\n",
    "\n",
    "Create payload to request Anthropic Claude 3 to identify all ingredients present in an image of food item"
   ]
  },
  {
   "cell_type": "code",
   "execution_count": null,
   "metadata": {
    "vscode": {
     "languageId": "plaintext"
    }
   },
   "outputs": [],
   "source": [
    "# Read input image\n",
    "with open(\"./media/greek-salad.jpg\", \"rb\") as image_file:\n",
    "    encoded_string = base64.b64encode(image_file.read())\n",
    "    base64_string = encoded_string.decode('utf-8')\n",
    "\n",
    "model_id = \"anthropic.claude-3-sonnet-20240229-v1:0\" #change it as per the model\n",
    "anthropic_version = \"bedrock-2023-05-31\" #change it as per the model version\n",
    "\n",
    "payload = {\n",
    "    \"modelId\": model_id,\n",
    "    \"contentType\": \"application/json\",\n",
    "    \"accept\": \"application/json\",\n",
    "    \"body\": {\n",
    "        \"anthropic_version\": anthropic_version,\n",
    "        \"max_tokens\": 1000,\n",
    "        \"messages\": [\n",
    "            {\n",
    "                \"role\": \"user\",\n",
    "                \"content\": [\n",
    "                    {\n",
    "                        \"type\": \"image\",\n",
    "                        \"source\": {\n",
    "                            \"type\": \"base64\",\n",
    "                            \"media_type\": \"image/jpeg\",\n",
    "                            \"data\": base64_string\n",
    "                        }\n",
    "                    },\n",
    "                    {\n",
    "                        \"type\": \"text\",\n",
    "                        \"text\": \"Please list down all ingredients present in this image\"\n",
    "                    }\n",
    "                ]\n",
    "            }\n",
    "        ]\n",
    "    }\n",
    "}"
   ]
  },
  {
   "cell_type": "markdown",
   "metadata": {},
   "source": [
    "## Model invocation\n",
    "\n",
    "Invoke the Anthropic Claude 3 model using bedrock runtime client\n",
    "\n",
    "Amazon Bedrock runtime client provides you with an API `invoke_model` which accepts the following:\n",
    "- `modelId`: This is the model ARN for the foundation model available in Amazon Bedrock\n",
    "- `accept`: The type of input request\n",
    "- `contentType`: The content type of the output\n",
    "- `body`: A json string payload consisting of the prompt and the configurations"
   ]
  },
  {
   "cell_type": "code",
   "execution_count": null,
   "metadata": {
    "vscode": {
     "languageId": "plaintext"
    }
   },
   "outputs": [],
   "source": [
    "# Convert the payload to bytes\n",
    "body_bytes = json.dumps(payload['body']).encode('utf-8')\n",
    "\n",
    "# Invoke the model\n",
    "response = bedrock_runtime.invoke_model(\n",
    "    body=body_bytes,\n",
    "    contentType=payload['contentType'],\n",
    "    accept=payload['accept'],\n",
    "    modelId=payload['modelId']\n",
    ")"
   ]
  },
  {
   "cell_type": "markdown",
   "metadata": {},
   "source": [
    "## Response Generation\n",
    "\n",
    "Process and visualize the response"
   ]
  },
  {
   "cell_type": "code",
   "execution_count": null,
   "metadata": {
    "vscode": {
     "languageId": "plaintext"
    }
   },
   "outputs": [],
   "source": [
    "# Process the response\n",
    "result = json.loads(response.get(\"body\").read())\n",
    "output_list = result.get(\"content\", [])\n",
    "for output in output_list:\n",
    "    print(output[\"text\"])"
   ]
  },
  {
   "cell_type": "markdown",
   "metadata": {},
   "source": [
    "## Use case 3 : Quality Inspection\n",
    "\n",
    "This use case demonstrates Anthropic Claude 3's ability to inspect quality of an item from its image\n",
    "\n",
    "\n",
    "#### Persona\n",
    "You are Bob, Manager at a customer support contact center. Your team handles and tried to mitigate customer complains regarding damaged packages. Presently, the process is manual. You'd like to enhance productivity of your team by creating a tool which will help to identify the packages which are actually damaged.\n",
    "\n",
    "#### Implementation\n",
    "To fulfill this use case, in this notebook we will show how Anthropic Claude 3 can distinguish between damaged and non-damaged packages, benefiting industries like logistics, manufacturing, and e-commerce by streamlining quality control processes and efficiently and accurately handling customer complaints. We will use the Anthropic Claude 3 Sonnet Foundation model, Amazon Bedrock API and Boto3 SDK. "
   ]
  },
  {
   "cell_type": "markdown",
   "metadata": {},
   "source": [
    "## Input Image\n",
    "\n",
    "Below is the image of a package in good condition\n",
    "\n",
    "![package.png](./media/package.png)"
   ]
  },
  {
   "cell_type": "markdown",
   "metadata": {},
   "source": [
    "## Payload Creation\n",
    "\n",
    "Create payload to request Anthropic Claude 3 to identify if the package is damaged"
   ]
  },
  {
   "cell_type": "code",
   "execution_count": null,
   "metadata": {
    "vscode": {
     "languageId": "plaintext"
    }
   },
   "outputs": [],
   "source": [
    "# Read input image\n",
    "with open(\"./media/package.png\", \"rb\") as image_file:\n",
    "    encoded_string = base64.b64encode(image_file.read())\n",
    "    base64_string = encoded_string.decode('utf-8')\n",
    "\n",
    "model_id = \"anthropic.claude-3-sonnet-20240229-v1:0\" #change it as per the model\n",
    "anthropic_version = \"bedrock-2023-05-31\" #change it as per the model version\n",
    "\n",
    "payload = {\n",
    "    \"modelId\": model_id,\n",
    "    \"contentType\": \"application/json\",\n",
    "    \"accept\": \"application/json\",\n",
    "    \"body\": {\n",
    "        \"anthropic_version\": anthropic_version,\n",
    "        \"max_tokens\": 1000,\n",
    "        \"messages\": [\n",
    "            {\n",
    "                \"role\": \"user\",\n",
    "                \"content\": [\n",
    "                    {\n",
    "                        \"type\": \"image\",\n",
    "                        \"source\": {\n",
    "                            \"type\": \"base64\",\n",
    "                            \"media_type\": \"image/png\",\n",
    "                            \"data\": base64_string\n",
    "                        }\n",
    "                    },\n",
    "                    {\n",
    "                        \"type\": \"text\",\n",
    "                        \"text\": \"Is this package damaged?\"\n",
    "                    }\n",
    "                ]\n",
    "            }\n",
    "        ]\n",
    "    }\n",
    "}"
   ]
  },
  {
   "cell_type": "markdown",
   "metadata": {},
   "source": [
    "## Model invocation\n",
    "\n",
    "Invoke the Anthropic Claude 3 model using bedrock runtime client\n",
    "\n",
    "Amazon Bedrock runtime client provides you with an API `invoke_model` which accepts the following:\n",
    "- `modelId`: This is the model ARN for the foundation model available in Amazon Bedrock\n",
    "- `accept`: The type of input request\n",
    "- `contentType`: The content type of the output\n",
    "- `body`: A json string payload consisting of the prompt and the configurations"
   ]
  },
  {
   "cell_type": "code",
   "execution_count": null,
   "metadata": {
    "vscode": {
     "languageId": "plaintext"
    }
   },
   "outputs": [],
   "source": [
    "# Convert the payload to bytes\n",
    "body_bytes = json.dumps(payload['body']).encode('utf-8')\n",
    "\n",
    "# Invoke the model\n",
    "response = bedrock_runtime.invoke_model(\n",
    "    body=body_bytes,\n",
    "    contentType=payload['contentType'],\n",
    "    accept=payload['accept'],\n",
    "    modelId=payload['modelId']\n",
    ")"
   ]
  },
  {
   "cell_type": "markdown",
   "metadata": {},
   "source": [
    "## Response Generation\n",
    "\n",
    "Process and visualize the response"
   ]
  },
  {
   "cell_type": "code",
   "execution_count": null,
   "metadata": {
    "vscode": {
     "languageId": "plaintext"
    }
   },
   "outputs": [],
   "source": [
    "# Process the response\n",
    "result = json.loads(response.get(\"body\").read())\n",
    "output_list = result.get(\"content\", [])\n",
    "for output in output_list:\n",
    "    print(output[\"text\"])"
   ]
  },
  {
   "cell_type": "markdown",
   "metadata": {},
   "source": [
    "## Input Image\n",
    "\n",
    "Below is the image of a package in bad condition\n",
    "\n",
    "![damaged-package.png](./media/damaged-package.png)"
   ]
  },
  {
   "cell_type": "markdown",
   "metadata": {},
   "source": [
    "## Payload Creation\n",
    "\n",
    "Create payload to request Anthropic Claude 3 to identify if the package is damaged"
   ]
  },
  {
   "cell_type": "code",
   "execution_count": null,
   "metadata": {
    "vscode": {
     "languageId": "plaintext"
    }
   },
   "outputs": [],
   "source": [
    "# Read input image\n",
    "with open(\"./media/damaged-package.png\", \"rb\") as image_file:\n",
    "    encoded_string = base64.b64encode(image_file.read())\n",
    "    base64_string = encoded_string.decode('utf-8')\n",
    "\n",
    "model_id = \"anthropic.claude-3-sonnet-20240229-v1:0\" #change it as per the model\n",
    "anthropic_version = \"bedrock-2023-05-31\" #change it as per the model version\n",
    "\n",
    "payload = {\n",
    "    \"modelId\": model_id,\n",
    "    \"contentType\": \"application/json\",\n",
    "    \"accept\": \"application/json\",\n",
    "    \"body\": {\n",
    "        \"anthropic_version\": anthropic_version,\n",
    "        \"max_tokens\": 1000,\n",
    "        \"messages\": [\n",
    "            {\n",
    "                \"role\": \"user\",\n",
    "                \"content\": [\n",
    "                    {\n",
    "                        \"type\": \"image\",\n",
    "                        \"source\": {\n",
    "                            \"type\": \"base64\",\n",
    "                            \"media_type\": \"image/png\",\n",
    "                            \"data\": base64_string\n",
    "                        }\n",
    "                    },\n",
    "                    {\n",
    "                        \"type\": \"text\",\n",
    "                        \"text\": \"Is this package damaged?\"\n",
    "                    }\n",
    "                ]\n",
    "            }\n",
    "        ]\n",
    "    }\n",
    "}"
   ]
  },
  {
   "cell_type": "markdown",
   "metadata": {},
   "source": [
    "## Model invocation\n",
    "\n",
    "Invoke the Anthropic Claude 3 model using bedrock runtime client\n",
    "\n",
    "Amazon Bedrock runtime client provides you with an API `invoke_model` which accepts the following:\n",
    "- `modelId`: This is the model ARN for the foundation model available in Amazon Bedrock\n",
    "- `accept`: The type of input request\n",
    "- `contentType`: The content type of the output\n",
    "- `body`: A json string payload consisting of the prompt and the configurations"
   ]
  },
  {
   "cell_type": "code",
   "execution_count": null,
   "metadata": {
    "vscode": {
     "languageId": "plaintext"
    }
   },
   "outputs": [],
   "source": [
    "# Convert the payload to bytes\n",
    "body_bytes = json.dumps(payload['body']).encode('utf-8')\n",
    "\n",
    "# Invoke the model\n",
    "response = bedrock_runtime.invoke_model(\n",
    "    body=body_bytes,\n",
    "    contentType=payload['contentType'],\n",
    "    accept=payload['accept'],\n",
    "    modelId=payload['modelId']\n",
    ")"
   ]
  },
  {
   "cell_type": "markdown",
   "metadata": {},
   "source": [
    "## Response Generation\n",
    "\n",
    "Process and visualize the response"
   ]
  },
  {
   "cell_type": "code",
   "execution_count": null,
   "metadata": {
    "vscode": {
     "languageId": "plaintext"
    }
   },
   "outputs": [],
   "source": [
    "# Process the response\n",
    "result = json.loads(response.get(\"body\").read())\n",
    "output_list = result.get(\"content\", [])\n",
    "for output in output_list:\n",
    "    print(output[\"text\"])"
   ]
  },
  {
   "cell_type": "markdown",
   "metadata": {},
   "source": [
    "## Conclusion\n",
    "You have now experimented with using `boto3` SDK to get an exposure to Anthropic Claude 3 and Amazon Bedrock API. Using this API you have analyzed different images and derived meaningful insights from the image.\n",
    "\n",
    "### Take aways\n",
    "- Adapt this notebook to experiment with different Claude 3 models available through Amazon Bedrock. \n",
    "- Change the prompts to your specific usecase and evaluate the output of different models.\n",
    "- Play with the token length to understand the latency and responsiveness of the service.\n",
    "- Apply different prompt engineering principles to get better outputs.\n",
    "\n",
    "## Thank You"
   ]
  }
 ],
 "metadata": {
  "kernelspec": {
   "display_name": "Python 3 (ipykernel)",
   "language": "python",
   "name": "python3"
  },
  "language_info": {
   "codemirror_mode": {
    "name": "ipython",
    "version": 3
   },
   "file_extension": ".py",
   "mimetype": "text/x-python",
   "name": "python",
   "nbconvert_exporter": "python",
   "pygments_lexer": "ipython3",
   "version": "3.11.7"
  }
 },
 "nbformat": 4,
 "nbformat_minor": 4
}
