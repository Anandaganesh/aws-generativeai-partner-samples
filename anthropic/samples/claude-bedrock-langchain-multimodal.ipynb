{
 "cells": [
  {
   "cell_type": "markdown",
   "metadata": {},
   "source": [
    "# Derive Insights from images using Anthropic Claude 3, Amazon Bedrock and langchain"
   ]
  },
  {
   "cell_type": "markdown",
   "metadata": {},
   "source": [
    "## Introduction\n",
    "\n",
    "In this notebook we will show you how to use Langchain to derive insights from images with Anthropic Claude 3 and Amazon Bedrock \n",
    "\n",
    "\n",
    "## Use case 1 : Image Summarization\n",
    "\n",
    "This use case demonstrates Anthropic Claude 3's ability to summarize complex data from charts/ graphs\n",
    "\n",
    "\n",
    "#### Persona\n",
    "You are Bob, an Analyst at AnyCompany and you need to explain to your leaders last 5 years trend in cost reduction across various supplier categories as depicted in a chart. You need the help of a Foundation Model to summarize all insights from this chart.\n",
    "\n",
    "#### Implementation\n",
    "To fulfill this use case, in this notebook we will show how Anthropic Claude 3 can quickly analyze and summarize intricate visualizations, making it invaluable for data analysis and decision-making. We will use the Anthropic Claude 3 Sonnet Foundation model, Amazon Bedrock and langchain. "
   ]
  },
  {
   "cell_type": "markdown",
   "metadata": {},
   "source": [
    "#### Python 3.10\n",
    "\n",
    "⚠  For this lab we need to run the notebook based on a Python 3.10 runtime. ⚠\n",
    "\n",
    "\n",
    "## Installation\n",
    "\n",
    "To run this notebook you would need to install dependencies - boto3, botocore and langchain."
   ]
  },
  {
   "cell_type": "code",
   "execution_count": null,
   "metadata": {
    "vscode": {
     "languageId": "plaintext"
    }
   },
   "outputs": [],
   "source": [
    "%pip install --upgrade pip\n",
    "%pip install boto3 --force-reinstall --quiet\n",
    "%pip install botocore --force-reinstall --quiet\n",
    "%pip install langchain --force-reinstall --quiet"
   ]
  },
  {
   "cell_type": "markdown",
   "metadata": {},
   "source": [
    "## Kernel Restart\n",
    "\n",
    "Restart the kernel with the updated packages that are installed through the dependencies above"
   ]
  },
  {
   "cell_type": "code",
   "execution_count": null,
   "metadata": {
    "vscode": {
     "languageId": "plaintext"
    }
   },
   "outputs": [],
   "source": [
    "# restart kernel\n",
    "from IPython.core.display import HTML\n",
    "HTML(\"<script>Jupyter.notebook.kernel.restart()</script>\")"
   ]
  },
  {
   "cell_type": "markdown",
   "metadata": {},
   "source": [
    "## Setup \n",
    "\n",
    "Import the necessary libraries"
   ]
  },
  {
   "cell_type": "code",
   "execution_count": null,
   "metadata": {
    "vscode": {
     "languageId": "plaintext"
    }
   },
   "outputs": [],
   "source": [
    "import json\n",
    "import os\n",
    "import sys\n",
    "import base64\n",
    "import boto3\n",
    "import botocore\n",
    "from langchain_community.chat_models.bedrock import BedrockChat\n",
    "from botocore.client import Config\n",
    "from pathlib import Path\n",
    "from langchain_core.messages import HumanMessage"
   ]
  },
  {
   "cell_type": "markdown",
   "metadata": {},
   "source": [
    "## Initialization\n",
    "\n",
    "Initiate Bedrock Runtime and BedrockChat"
   ]
  },
  {
   "cell_type": "code",
   "execution_count": null,
   "metadata": {
    "vscode": {
     "languageId": "plaintext"
    }
   },
   "outputs": [],
   "source": [
    "bedrock_config = Config(connect_timeout=120, read_timeout=120, retries={'max_attempts': 0})\n",
    "bedrock_client = boto3.client('bedrock-runtime')\n",
    "\n",
    "modelId = 'anthropic.claude-3-sonnet-20240229-v1:0' # change this to use a different version from the model provider\n",
    "\n",
    "model_kwargs =  { \n",
    "    \"max_tokens\": 2048,\n",
    "    \"temperature\": 0.0,\n",
    "    \"top_k\": 250,\n",
    "    \"top_p\": 1,\n",
    "    \"stop_sequences\": [\"\\n\\nHuman\"],\n",
    "}\n",
    "\n",
    "llm = BedrockChat(model_id=modelId, client=bedrock_client,model_kwargs=model_kwargs)"
   ]
  },
  {
   "cell_type": "markdown",
   "metadata": {},
   "source": [
    "## Model Invocation and Response Generation\n",
    "\n",
    "Invoke the model and visualize the response"
   ]
  },
  {
   "cell_type": "code",
   "execution_count": null,
   "metadata": {
    "vscode": {
     "languageId": "plaintext"
    }
   },
   "outputs": [],
   "source": [
    "img1_path = Path(\"./media/chart.png\")\n",
    "img1_base64 = base64.b64encode(img1_path.read_bytes()).decode(\"utf-8\")\n",
    "\n",
    "\n",
    "messages = [\n",
    "    HumanMessage(\n",
    "        content = [\n",
    "            {\n",
    "                \"type\": \"image_url\",\n",
    "                \"image_url\": {\n",
    "                    \"url\": f\"data:image/png;base64,{img1_base64}\",\n",
    "                },\n",
    "            },\n",
    "            {\n",
    "                \"type\": \"text\",\n",
    "                \"text\": \"What's in this image?\"\n",
    "            },\n",
    "        ]\n",
    "    )\n",
    "]\n",
    "\n",
    "response = llm.invoke(messages)\n",
    "print(response)"
   ]
  },
  {
   "cell_type": "markdown",
   "metadata": {},
   "source": [
    "## Use case 2 : Image comparison\n",
    "\n",
    "This use case demonstrates Anthropic Claude 3's ability to compare between multiple images\n",
    "\n",
    "\n",
    "#### Persona\n",
    "You are Bob, Manager at an e-commerce warehouse. You'd like to maintain high standards of the product and reduce returns and customer complaints. You'd like to integrate a Foundation Model into the packaging process to automatically detect any damage or defects in products before they're shipped out to customers.\n",
    "\n",
    "#### Implementation\n",
    "To fulfill this use case, in this notebook we will show how Anthropic Claude 3 can compare between images of a damaged and non-damaged package, benefiting industries like logistics, manufacturing, and e-commerce by streamlining quality control processes. We will use the Anthropic Claude 3 Sonnet Foundation model, Amazon Bedrock API and langchain. "
   ]
  },
  {
   "cell_type": "code",
   "execution_count": null,
   "metadata": {
    "vscode": {
     "languageId": "plaintext"
    }
   },
   "outputs": [],
   "source": [
    "img1_path = Path(\"./media/package.png\")\n",
    "img1_base64 = base64.b64encode(img1_path.read_bytes()).decode(\"utf-8\")\n",
    "\n",
    "img2_path = Path(\"./media/damaged-package.png\")\n",
    "img2_base64 = base64.b64encode(img2_path.read_bytes()).decode(\"utf-8\")\n",
    "\n",
    "messages = [\n",
    "    HumanMessage(\n",
    "        content = [\n",
    "            {\n",
    "                \"type\": \"image_url\",\n",
    "                \"image_url\": {\n",
    "                    \"url\": f\"data:image/png;base64,{img1_base64}\",\n",
    "                },\n",
    "            },\n",
    "            {\n",
    "                \"type\": \"image_url\",\n",
    "                \"image_url\": {\n",
    "                    \"url\": f\"data:image/png;base64,{img2_base64}\",\n",
    "                },\n",
    "            },\n",
    "            {   \n",
    "                \"type\": \"text\",\n",
    "                \"text\": \"Compare two images\"\n",
    "            },\n",
    "        ]\n",
    "    )\n",
    "]\n",
    "\n",
    "response = llm.invoke(messages)\n",
    "print(response)"
   ]
  },
  {
   "cell_type": "markdown",
   "metadata": {},
   "source": [
    "## Conclusion\n",
    "You have now experimented with using `langchain` SDK to get an exposure to Anthropic Claude 3 and Amazon Bedrock API. Using langchain you have summarized and compared images. \n",
    "\n",
    "### Take aways\n",
    "- Adapt this notebook to experiment with different Claude 3 models available through Amazon Bedrock. \n",
    "- Change the prompts to your specific usecase and evaluate the output of different models.\n",
    "- Play with the token length to understand the latency and responsiveness of the service.\n",
    "- Apply different prompt engineering principles to get better outputs.\n",
    "\n",
    "## Thank You"
   ]
  }
 ],
 "metadata": {
  "kernelspec": {
   "display_name": "Python 3 (ipykernel)",
   "language": "python",
   "name": "python3"
  },
  "language_info": {
   "codemirror_mode": {
    "name": "ipython",
    "version": 3
   },
   "file_extension": ".py",
   "mimetype": "text/x-python",
   "name": "python",
   "nbconvert_exporter": "python",
   "pygments_lexer": "ipython3",
   "version": "3.11.7"
  }
 },
 "nbformat": 4,
 "nbformat_minor": 4
}
